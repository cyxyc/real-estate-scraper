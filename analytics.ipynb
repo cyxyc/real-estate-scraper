{
 "cells": [
  {
   "cell_type": "code",
   "execution_count": 1,
   "metadata": {},
   "outputs": [],
   "source": [
    "import pandas as pd\n",
    "import numpy as np  \n",
    "import uuid\n",
    "import datetime"
   ]
  },
  {
   "cell_type": "code",
   "execution_count": 20,
   "metadata": {},
   "outputs": [
    {
     "data": {
      "text/html": [
       "<div>\n",
       "<style scoped>\n",
       "    .dataframe tbody tr th:only-of-type {\n",
       "        vertical-align: middle;\n",
       "    }\n",
       "\n",
       "    .dataframe tbody tr th {\n",
       "        vertical-align: top;\n",
       "    }\n",
       "\n",
       "    .dataframe thead th {\n",
       "        text-align: right;\n",
       "    }\n",
       "</style>\n",
       "<table border=\"1\" class=\"dataframe\">\n",
       "  <thead>\n",
       "    <tr style=\"text-align: right;\">\n",
       "      <th></th>\n",
       "      <th>0</th>\n",
       "      <th>1</th>\n",
       "      <th>2</th>\n",
       "      <th>3</th>\n",
       "      <th>4</th>\n",
       "      <th>5</th>\n",
       "    </tr>\n",
       "  </thead>\n",
       "  <tbody>\n",
       "    <tr>\n",
       "      <th>0</th>\n",
       "      <td>Prodej garáže 21 m²</td>\n",
       "      <td>390000</td>\n",
       "      <td>Frýdek-Místek - Místek, okres Frýdek-Místek</td>\n",
       "      <td>Nabízíme exkluzivně k prodeji zděnou garáž v l...</td>\n",
       "      <td>21</td>\n",
       "      <td>['https://d18-a.sdn.cz/d_18/c_img_QQ_Ls/jZKlLR...</td>\n",
       "    </tr>\n",
       "    <tr>\n",
       "      <th>1</th>\n",
       "      <td>Prodej garáže 18 m²</td>\n",
       "      <td>600000</td>\n",
       "      <td>Emila Pajurka, Frýdlant nad Ostravicí - Frýdlant</td>\n",
       "      <td>Prodej garáže na ulici Emila Pajurka- naproti ...</td>\n",
       "      <td>18</td>\n",
       "      <td>['https://d18-a.sdn.cz/d_18/c_img_QO_K8/oUyIsV...</td>\n",
       "    </tr>\n",
       "    <tr>\n",
       "      <th>2</th>\n",
       "      <td>Prodej garáže 25 m²</td>\n",
       "      <td>290000</td>\n",
       "      <td>Třinec - Staré Město, okres Frýdek-Místek</td>\n",
       "      <td>Exkluzivně Vám nabízím prodej zděné garáže v T...</td>\n",
       "      <td>25</td>\n",
       "      <td>['https://d18-a.sdn.cz/d_18/c_img_QP_LH/3d2CAg...</td>\n",
       "    </tr>\n",
       "    <tr>\n",
       "      <th>3</th>\n",
       "      <td>Prodej garáže 19 m²</td>\n",
       "      <td>390000</td>\n",
       "      <td>Frýdek-Místek - Místek, okres Frýdek-Místek</td>\n",
       "      <td>Nabízíme k prodeji garáž na okraji města Frýdk...</td>\n",
       "      <td>19</td>\n",
       "      <td>['https://d18-a.sdn.cz/d_18/c_img_gR_z/266GR.j...</td>\n",
       "    </tr>\n",
       "    <tr>\n",
       "      <th>4</th>\n",
       "      <td>Prodej garáže 28 m²</td>\n",
       "      <td>339000</td>\n",
       "      <td>Třinec - Dolní Líštná, okres Frýdek-Místek</td>\n",
       "      <td>Nabízíme na prodej zděnou řadovou garáž v Třin...</td>\n",
       "      <td>28</td>\n",
       "      <td>['https://d18-a.sdn.cz/d_18/c_img_QM_Kp/6fTdvH...</td>\n",
       "    </tr>\n",
       "  </tbody>\n",
       "</table>\n",
       "</div>"
      ],
      "text/plain": [
       "                     0       1  \\\n",
       "0  Prodej garáže 21 m²  390000   \n",
       "1  Prodej garáže 18 m²  600000   \n",
       "2  Prodej garáže 25 m²  290000   \n",
       "3  Prodej garáže 19 m²  390000   \n",
       "4  Prodej garáže 28 m²  339000   \n",
       "\n",
       "                                                  2  \\\n",
       "0       Frýdek-Místek - Místek, okres Frýdek-Místek   \n",
       "1  Emila Pajurka, Frýdlant nad Ostravicí - Frýdlant   \n",
       "2         Třinec - Staré Město, okres Frýdek-Místek   \n",
       "3       Frýdek-Místek - Místek, okres Frýdek-Místek   \n",
       "4        Třinec - Dolní Líštná, okres Frýdek-Místek   \n",
       "\n",
       "                                                   3   4  \\\n",
       "0  Nabízíme exkluzivně k prodeji zděnou garáž v l...  21   \n",
       "1  Prodej garáže na ulici Emila Pajurka- naproti ...  18   \n",
       "2  Exkluzivně Vám nabízím prodej zděné garáže v T...  25   \n",
       "3  Nabízíme k prodeji garáž na okraji města Frýdk...  19   \n",
       "4  Nabízíme na prodej zděnou řadovou garáž v Třin...  28   \n",
       "\n",
       "                                                   5  \n",
       "0  ['https://d18-a.sdn.cz/d_18/c_img_QQ_Ls/jZKlLR...  \n",
       "1  ['https://d18-a.sdn.cz/d_18/c_img_QO_K8/oUyIsV...  \n",
       "2  ['https://d18-a.sdn.cz/d_18/c_img_QP_LH/3d2CAg...  \n",
       "3  ['https://d18-a.sdn.cz/d_18/c_img_gR_z/266GR.j...  \n",
       "4  ['https://d18-a.sdn.cz/d_18/c_img_QM_Kp/6fTdvH...  "
      ]
     },
     "execution_count": 20,
     "metadata": {},
     "output_type": "execute_result"
    }
   ],
   "source": [
    "df = pd.read_csv('df2.csv')\n",
    "df.head()"
   ]
  },
  {
   "cell_type": "code",
   "execution_count": 21,
   "metadata": {},
   "outputs": [
    {
     "data": {
      "text/html": [
       "<div>\n",
       "<style scoped>\n",
       "    .dataframe tbody tr th:only-of-type {\n",
       "        vertical-align: middle;\n",
       "    }\n",
       "\n",
       "    .dataframe tbody tr th {\n",
       "        vertical-align: top;\n",
       "    }\n",
       "\n",
       "    .dataframe thead th {\n",
       "        text-align: right;\n",
       "    }\n",
       "</style>\n",
       "<table border=\"1\" class=\"dataframe\">\n",
       "  <thead>\n",
       "    <tr style=\"text-align: right;\">\n",
       "      <th></th>\n",
       "      <th>title</th>\n",
       "      <th>price</th>\n",
       "      <th>location</th>\n",
       "      <th>detail</th>\n",
       "      <th>area</th>\n",
       "      <th>photo_URLs</th>\n",
       "      <th>scrape_date</th>\n",
       "    </tr>\n",
       "    <tr>\n",
       "      <th>id</th>\n",
       "      <th></th>\n",
       "      <th></th>\n",
       "      <th></th>\n",
       "      <th></th>\n",
       "      <th></th>\n",
       "      <th></th>\n",
       "      <th></th>\n",
       "    </tr>\n",
       "  </thead>\n",
       "  <tbody>\n",
       "    <tr>\n",
       "      <th>b6ad2e18-4a9f-4279-a6a3-f17d7c3a8fed</th>\n",
       "      <td>Prodej garáže 21 m²</td>\n",
       "      <td>390000</td>\n",
       "      <td>Frýdek-Místek - Místek, okres Frýdek-Místek</td>\n",
       "      <td>Nabízíme exkluzivně k prodeji zděnou garáž v l...</td>\n",
       "      <td>21</td>\n",
       "      <td>['https://d18-a.sdn.cz/d_18/c_img_QQ_Ls/jZKlLR...</td>\n",
       "      <td>2024-03-28</td>\n",
       "    </tr>\n",
       "    <tr>\n",
       "      <th>6db2f666-dbd0-44a2-966c-373f60421cfd</th>\n",
       "      <td>Prodej garáže 18 m²</td>\n",
       "      <td>600000</td>\n",
       "      <td>Emila Pajurka, Frýdlant nad Ostravicí - Frýdlant</td>\n",
       "      <td>Prodej garáže na ulici Emila Pajurka- naproti ...</td>\n",
       "      <td>18</td>\n",
       "      <td>['https://d18-a.sdn.cz/d_18/c_img_QO_K8/oUyIsV...</td>\n",
       "      <td>2024-03-28</td>\n",
       "    </tr>\n",
       "    <tr>\n",
       "      <th>05cc533c-a64e-48f8-a110-22a05287495e</th>\n",
       "      <td>Prodej garáže 25 m²</td>\n",
       "      <td>290000</td>\n",
       "      <td>Třinec - Staré Město, okres Frýdek-Místek</td>\n",
       "      <td>Exkluzivně Vám nabízím prodej zděné garáže v T...</td>\n",
       "      <td>25</td>\n",
       "      <td>['https://d18-a.sdn.cz/d_18/c_img_QP_LH/3d2CAg...</td>\n",
       "      <td>2024-03-28</td>\n",
       "    </tr>\n",
       "    <tr>\n",
       "      <th>a1cbb29a-015e-4c57-9ea9-dbcd0a2c1a7c</th>\n",
       "      <td>Prodej garáže 19 m²</td>\n",
       "      <td>390000</td>\n",
       "      <td>Frýdek-Místek - Místek, okres Frýdek-Místek</td>\n",
       "      <td>Nabízíme k prodeji garáž na okraji města Frýdk...</td>\n",
       "      <td>19</td>\n",
       "      <td>['https://d18-a.sdn.cz/d_18/c_img_gR_z/266GR.j...</td>\n",
       "      <td>2024-03-28</td>\n",
       "    </tr>\n",
       "    <tr>\n",
       "      <th>0309333d-bf15-4a03-8080-091f42877043</th>\n",
       "      <td>Prodej garáže 28 m²</td>\n",
       "      <td>339000</td>\n",
       "      <td>Třinec - Dolní Líštná, okres Frýdek-Místek</td>\n",
       "      <td>Nabízíme na prodej zděnou řadovou garáž v Třin...</td>\n",
       "      <td>28</td>\n",
       "      <td>['https://d18-a.sdn.cz/d_18/c_img_QM_Kp/6fTdvH...</td>\n",
       "      <td>2024-03-28</td>\n",
       "    </tr>\n",
       "  </tbody>\n",
       "</table>\n",
       "</div>"
      ],
      "text/plain": [
       "                                                    title   price  \\\n",
       "id                                                                  \n",
       "b6ad2e18-4a9f-4279-a6a3-f17d7c3a8fed  Prodej garáže 21 m²  390000   \n",
       "6db2f666-dbd0-44a2-966c-373f60421cfd  Prodej garáže 18 m²  600000   \n",
       "05cc533c-a64e-48f8-a110-22a05287495e  Prodej garáže 25 m²  290000   \n",
       "a1cbb29a-015e-4c57-9ea9-dbcd0a2c1a7c  Prodej garáže 19 m²  390000   \n",
       "0309333d-bf15-4a03-8080-091f42877043  Prodej garáže 28 m²  339000   \n",
       "\n",
       "                                                                              location  \\\n",
       "id                                                                                       \n",
       "b6ad2e18-4a9f-4279-a6a3-f17d7c3a8fed       Frýdek-Místek - Místek, okres Frýdek-Místek   \n",
       "6db2f666-dbd0-44a2-966c-373f60421cfd  Emila Pajurka, Frýdlant nad Ostravicí - Frýdlant   \n",
       "05cc533c-a64e-48f8-a110-22a05287495e         Třinec - Staré Město, okres Frýdek-Místek   \n",
       "a1cbb29a-015e-4c57-9ea9-dbcd0a2c1a7c       Frýdek-Místek - Místek, okres Frýdek-Místek   \n",
       "0309333d-bf15-4a03-8080-091f42877043        Třinec - Dolní Líštná, okres Frýdek-Místek   \n",
       "\n",
       "                                                                                 detail  \\\n",
       "id                                                                                        \n",
       "b6ad2e18-4a9f-4279-a6a3-f17d7c3a8fed  Nabízíme exkluzivně k prodeji zděnou garáž v l...   \n",
       "6db2f666-dbd0-44a2-966c-373f60421cfd  Prodej garáže na ulici Emila Pajurka- naproti ...   \n",
       "05cc533c-a64e-48f8-a110-22a05287495e  Exkluzivně Vám nabízím prodej zděné garáže v T...   \n",
       "a1cbb29a-015e-4c57-9ea9-dbcd0a2c1a7c  Nabízíme k prodeji garáž na okraji města Frýdk...   \n",
       "0309333d-bf15-4a03-8080-091f42877043  Nabízíme na prodej zděnou řadovou garáž v Třin...   \n",
       "\n",
       "                                      area  \\\n",
       "id                                           \n",
       "b6ad2e18-4a9f-4279-a6a3-f17d7c3a8fed    21   \n",
       "6db2f666-dbd0-44a2-966c-373f60421cfd    18   \n",
       "05cc533c-a64e-48f8-a110-22a05287495e    25   \n",
       "a1cbb29a-015e-4c57-9ea9-dbcd0a2c1a7c    19   \n",
       "0309333d-bf15-4a03-8080-091f42877043    28   \n",
       "\n",
       "                                                                             photo_URLs  \\\n",
       "id                                                                                        \n",
       "b6ad2e18-4a9f-4279-a6a3-f17d7c3a8fed  ['https://d18-a.sdn.cz/d_18/c_img_QQ_Ls/jZKlLR...   \n",
       "6db2f666-dbd0-44a2-966c-373f60421cfd  ['https://d18-a.sdn.cz/d_18/c_img_QO_K8/oUyIsV...   \n",
       "05cc533c-a64e-48f8-a110-22a05287495e  ['https://d18-a.sdn.cz/d_18/c_img_QP_LH/3d2CAg...   \n",
       "a1cbb29a-015e-4c57-9ea9-dbcd0a2c1a7c  ['https://d18-a.sdn.cz/d_18/c_img_gR_z/266GR.j...   \n",
       "0309333d-bf15-4a03-8080-091f42877043  ['https://d18-a.sdn.cz/d_18/c_img_QM_Kp/6fTdvH...   \n",
       "\n",
       "                                     scrape_date  \n",
       "id                                                \n",
       "b6ad2e18-4a9f-4279-a6a3-f17d7c3a8fed  2024-03-28  \n",
       "6db2f666-dbd0-44a2-966c-373f60421cfd  2024-03-28  \n",
       "05cc533c-a64e-48f8-a110-22a05287495e  2024-03-28  \n",
       "a1cbb29a-015e-4c57-9ea9-dbcd0a2c1a7c  2024-03-28  \n",
       "0309333d-bf15-4a03-8080-091f42877043  2024-03-28  "
      ]
     },
     "execution_count": 21,
     "metadata": {},
     "output_type": "execute_result"
    }
   ],
   "source": [
    "# Generate a new UUID for each row\n",
    "df['id'] = df.apply(lambda _: str(uuid.uuid4()), axis=1)\n",
    "# Set 'id' as the index\n",
    "df.set_index('id', inplace=True)\n",
    "#change the dataframe column names to: title, price, location, detail, area, photo_URLs\n",
    "df.columns = ['title', 'price', 'location', 'detail', 'area', 'photo_URLs']\n",
    "df['scrape_date'] = datetime.date.today()\n",
    "# Save the data\n",
    "df.head()\n"
   ]
  },
  {
   "cell_type": "code",
   "execution_count": 22,
   "metadata": {},
   "outputs": [],
   "source": [
    "df_imgs = df.copy(deep=True)\n"
   ]
  },
  {
   "cell_type": "code",
   "execution_count": 23,
   "metadata": {},
   "outputs": [],
   "source": [
    "df_imgs['photo_URLs'] = df_imgs['photo_URLs'].str.split(', ')\n",
    "df_imgs = df_imgs.explode('photo_URLs')\n",
    "df_imgs = df_imgs.loc[:, ['photo_URLs']]\n",
    "\n"
   ]
  },
  {
   "cell_type": "code",
   "execution_count": 25,
   "metadata": {},
   "outputs": [
    {
     "data": {
      "text/plain": [
       "pandas.core.frame.DataFrame"
      ]
     },
     "execution_count": 25,
     "metadata": {},
     "output_type": "execute_result"
    }
   ],
   "source": []
  },
  {
   "cell_type": "code",
   "execution_count": 19,
   "metadata": {},
   "outputs": [
    {
     "data": {
      "text/plain": [
       "pandas.core.series.Series"
      ]
     },
     "execution_count": 19,
     "metadata": {},
     "output_type": "execute_result"
    }
   ],
   "source": []
  },
  {
   "cell_type": "code",
   "execution_count": 34,
   "metadata": {},
   "outputs": [],
   "source": [
    "df_imgs['photo_URLs'] = df_imgs['photo_URLs'].str.replace('[', '').str.replace(']', '').str.replace('\\'', '')\n"
   ]
  },
  {
   "cell_type": "code",
   "execution_count": null,
   "metadata": {},
   "outputs": [],
   "source": []
  },
  {
   "cell_type": "code",
   "execution_count": 87,
   "metadata": {},
   "outputs": [],
   "source": [
    "df_imgs.to_csv('df_imgs.csv', index=True)"
   ]
  },
  {
   "cell_type": "code",
   "execution_count": 38,
   "metadata": {},
   "outputs": [],
   "source": [
    "\n",
    "#xxxxxxxxxxxxxxxxxxxxxxxxxxxxxxxxxxxxxxxxxxx\n"
   ]
  },
  {
   "cell_type": "code",
   "execution_count": null,
   "metadata": {},
   "outputs": [],
   "source": [
    "from os import path\n",
    "from imgurpython import ImgurClient\n",
    "import pandas as pd\n",
    "\n",
    "df_imgs = pd.read_csv('df_imgs.csv')\n",
    "\n",
    "client_id = '7c437cedc06d28a'\n",
    "client_secret = '170eaa169865ce4f60cb70f0f8aa31b70788b69e'\n",
    "\n",
    "client = ImgurClient(client_id, client_secret)\n",
    "\n",
    "path = 'hjk.png'\n",
    "image = client.upload_from_path(path)\n",
    "\n",
    "print(\"Image was posted!\")\n",
    "print(\"You can find it here: {0}\".format(image['link']))\n"
   ]
  },
  {
   "cell_type": "code",
   "execution_count": null,
   "metadata": {},
   "outputs": [],
   "source": []
  }
 ],
 "metadata": {
  "kernelspec": {
   "display_name": ".venv",
   "language": "python",
   "name": "python3"
  },
  "language_info": {
   "codemirror_mode": {
    "name": "ipython",
    "version": 3
   },
   "file_extension": ".py",
   "mimetype": "text/x-python",
   "name": "python",
   "nbconvert_exporter": "python",
   "pygments_lexer": "ipython3",
   "version": "3.10.4"
  }
 },
 "nbformat": 4,
 "nbformat_minor": 2
}
